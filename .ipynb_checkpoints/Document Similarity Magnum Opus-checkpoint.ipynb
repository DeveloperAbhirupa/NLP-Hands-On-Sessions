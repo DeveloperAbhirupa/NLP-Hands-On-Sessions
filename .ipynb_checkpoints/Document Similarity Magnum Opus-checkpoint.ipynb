{
 "cells": [
  {
   "cell_type": "code",
   "execution_count": 3,
   "metadata": {},
   "outputs": [
    {
     "name": "stdout",
     "output_type": "stream",
     "text": [
      "['At the top of a squatty, three-story brick Sue and Johnsy had their studio.', '\"Johnsy\" was familiar for Joanna.', 'One was from Maine; the other from California.', 'They had met at the table d\\'hôte of an Eighth Street \"Delmonico\\'s,\" and found their tastes in art, chicory salad and bishop sleeves so congenial that the joint studio resulted.', 'That was in May.', 'In November a cold, unseen stranger, whom the doctors called Pneumonia, stalked about the colony, touching one here and there with his icy fingers.', 'Over on the east side this ravager strode boldly, smiting his victims by scores, but his feet trod slowly through the maze of the narrow and moss-grown \"places.\"', 'Mr.', 'Pneumonia was not what you would call a chivalric old gentleman.', 'A mite of a little woman with blood thinned by California zephyrs was hardly fair game for the red-fisted, short-breathed old duffer.', 'But Johnsy he smote; and she lay, scarcely moving, on her painted iron bedstead, looking through the small Dutch window-panes at the blank side of the next brick house.']\n"
     ]
    }
   ],
   "source": [
    "from nltk.tokenize import sent_tokenize\n",
    "\n",
    "OHenryText1 = '''At the top of a squatty, three-story brick Sue and Johnsy had their studio. \"Johnsy\" was familiar for Joanna. One was from Maine; the other from California. They had met at the table d'hôte of an Eighth Street \"Delmonico's,\" and found their tastes in art, chicory salad and bishop sleeves so congenial that the joint studio resulted.\n",
    "\n",
    "     That was in May. In November a cold, unseen stranger, whom the doctors called Pneumonia, stalked about the colony, touching one here and there with his icy fingers. Over on the east side this ravager strode boldly, smiting his victims by scores, but his feet trod slowly through the maze of the narrow and moss-grown \"places.\"\n",
    "\n",
    "     Mr. Pneumonia was not what you would call a chivalric old gentleman. A mite of a little woman with blood thinned by California zephyrs was hardly fair game for the red-fisted, short-breathed old duffer. But Johnsy he smote; and she lay, scarcely moving, on her painted iron bedstead, looking through the small Dutch window-panes at the blank side of the next brick house. '''\n",
    "\n",
    "\n",
    "\n",
    "print(sent_tokenize(OHenryText1))\n"
   ]
  },
  {
   "cell_type": "code",
   "execution_count": 9,
   "metadata": {},
   "outputs": [
    {
     "name": "stdout",
     "output_type": "stream",
     "text": [
      "['at', 'the', 'top', 'of', 'a', 'squatty', ',', 'three-story', 'brick', 'sue', 'and', 'johnsy', 'had', 'their', 'studio', '.', '``', 'johnsy', \"''\", 'was', 'familiar', 'for', 'joanna', '.', 'one', 'was', 'from', 'maine', ';', 'the', 'other', 'from', 'california', '.', 'they', 'had', 'met', 'at', 'the', 'table', \"d'hôte\", 'of', 'an', 'eighth', 'street', '``', 'delmonico', \"'s\", ',', \"''\", 'and', 'found', 'their', 'tastes', 'in', 'art', ',', 'chicory', 'salad', 'and', 'bishop', 'sleeves', 'so', 'congenial', 'that', 'the', 'joint', 'studio', 'resulted', '.', 'that', 'was', 'in', 'may', '.', 'in', 'november', 'a', 'cold', ',', 'unseen', 'stranger', ',', 'whom', 'the', 'doctors', 'called', 'pneumonia', ',', 'stalked', 'about', 'the', 'colony', ',', 'touching', 'one', 'here', 'and', 'there', 'with', 'his', 'icy', 'fingers', '.', 'over', 'on', 'the', 'east', 'side', 'this', 'ravager', 'strode', 'boldly', ',', 'smiting', 'his', 'victims', 'by', 'scores', ',', 'but', 'his', 'feet', 'trod', 'slowly', 'through', 'the', 'maze', 'of', 'the', 'narrow', 'and', 'moss-grown', '``', 'places', '.', \"''\", 'mr.', 'pneumonia', 'was', 'not', 'what', 'you', 'would', 'call', 'a', 'chivalric', 'old', 'gentleman', '.', 'a', 'mite', 'of', 'a', 'little', 'woman', 'with', 'blood', 'thinned', 'by', 'california', 'zephyrs', 'was', 'hardly', 'fair', 'game', 'for', 'the', 'red-fisted', ',', 'short-breathed', 'old', 'duffer', '.', 'but', 'johnsy', 'he', 'smote', ';', 'and', 'she', 'lay', ',', 'scarcely', 'moving', ',', 'on', 'her', 'painted', 'iron', 'bedstead', ',', 'looking', 'through', 'the', 'small', 'dutch', 'window-panes', 'at', 'the', 'blank', 'side', 'of', 'the', 'next', 'brick', 'house', '.']\n"
     ]
    }
   ],
   "source": [
    "\n",
    "from nltk.tokenize import word_tokenize, sent_tokenize\n",
    "\n",
    "gen_docs = word_tokenize(OHenryText1.lower())\n",
    "print(gen_docs)"
   ]
  },
  {
   "cell_type": "code",
   "execution_count": 12,
   "metadata": {},
   "outputs": [
    {
     "ename": "NameError",
     "evalue": "name 'gensim' is not defined",
     "output_type": "error",
     "traceback": [
      "\u001b[1;31m---------------------------------------------------------------------------\u001b[0m",
      "\u001b[1;31mNameError\u001b[0m                                 Traceback (most recent call last)",
      "\u001b[1;32m<ipython-input-12-9da674935cad>\u001b[0m in \u001b[0;36m<module>\u001b[1;34m\u001b[0m\n\u001b[1;32m----> 1\u001b[1;33m \u001b[0mdictionary\u001b[0m \u001b[1;33m=\u001b[0m \u001b[0mgensim\u001b[0m\u001b[1;33m.\u001b[0m\u001b[0mcorpora\u001b[0m\u001b[1;33m.\u001b[0m\u001b[0mDictionary\u001b[0m\u001b[1;33m(\u001b[0m\u001b[0mgen_docs\u001b[0m\u001b[1;33m)\u001b[0m\u001b[1;33m\u001b[0m\u001b[1;33m\u001b[0m\u001b[0m\n\u001b[0m\u001b[0;32m      2\u001b[0m \u001b[0mprint\u001b[0m\u001b[1;33m(\u001b[0m\u001b[0mdictionary\u001b[0m\u001b[1;33m.\u001b[0m\u001b[0mtoken2id\u001b[0m\u001b[1;33m)\u001b[0m\u001b[1;33m\u001b[0m\u001b[1;33m\u001b[0m\u001b[0m\n",
      "\u001b[1;31mNameError\u001b[0m: name 'gensim' is not defined"
     ]
    }
   ],
   "source": [
    "dictionary = gensim.corpora.Dictionary(gen_docs)\n",
    "print(dictionary.token2id)\n"
   ]
  },
  {
   "cell_type": "code",
   "execution_count": null,
   "metadata": {},
   "outputs": [],
   "source": []
  }
 ],
 "metadata": {
  "kernelspec": {
   "display_name": "Python 3",
   "language": "python",
   "name": "python3"
  },
  "language_info": {
   "codemirror_mode": {
    "name": "ipython",
    "version": 3
   },
   "file_extension": ".py",
   "mimetype": "text/x-python",
   "name": "python",
   "nbconvert_exporter": "python",
   "pygments_lexer": "ipython3",
   "version": "3.7.6"
  }
 },
 "nbformat": 4,
 "nbformat_minor": 4
}
