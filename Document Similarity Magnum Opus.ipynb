{
 "cells": [
  {
   "cell_type": "markdown",
   "metadata": {},
   "source": [
    "### Document 2: An excerpt from The Last Leaf"
   ]
  },
  {
   "cell_type": "code",
   "execution_count": 28,
   "metadata": {},
   "outputs": [],
   "source": [
    "OHenryText1 = '''At the top of a squatty, three-story brick Sue and Johnsy had their studio. \"Johnsy\" was familiar \n",
    "for Joanna. One was from Maine; the other from California. They had met at the table d'hôte of an Eighth Street \n",
    "\"Delmonico's,\" and found their tastes in art, chicory salad and bishop sleeves so congenial that the joint studio \n",
    "resulted.That was in May. In November a cold, unseen stranger, whom the doctors called Pneumonia, stalked about the \n",
    "colony, touching one here and there with his icy fingers. Over on the east side this ravager strode boldly, smiting \n",
    "his victims by scores, but his feet trod slowly through the maze of the narrow and moss-grown \"places.\" Mr. Pneumonia \n",
    "was not what you would call a chivalric old gentleman. A mite of a little woman with blood thinned by California \n",
    "zephyrs was hardly fair game for the red-fisted, short-breathed old duffer. But Johnsy he smote; and she lay, \n",
    "scarcely moving, on her painted iron bedstead, looking through the small Dutch window-panes at the blank side \n",
    "of the next brick house.  One morning the busy doctor invited Sue into the hallway with a shaggy, grey eyebrow.\n",
    "\n",
    "\"She has one chance in - let us say, ten,\" he said, as he shook down the mercury in his clinical thermometer. \n",
    "\" And that chance is for her to want to live. This way people have of lining-u on the side of the undertaker \n",
    "makes the entire pharmacopoeia look silly. Your little lady has made up her mind that she's not going to get well. \n",
    "Has she anything on her mind?\"\n",
    "\"She - she wanted to paint the Bay of Naples some day.\" said Sue.\n",
    "\"Paint? - bosh! Has she anything on her mind worth thinking twice - a man for instance?\"\n",
    "\"A man?\" said Sue, with a jew's-harp twang in her voice. \"Is a man worth - but, no, doctor; there is nothing of \n",
    "the kind.\"\n",
    "\"Well, it is the weakness, then,\" said the doctor. \"I will do all that science, so far as it may \n",
    "filter through my efforts, can accomplish. But whenever my patient begins to count the carriages in her \n",
    "funeral procession I subtract 50 per cent from the curative power of medicines. If you will get her to ask \n",
    "one question about the new winter styles in cloak sleeves I will promise you a one-in-five chance for her, \n",
    "instead of one in ten.\"'''\n"
   ]
  },
  {
   "cell_type": "markdown",
   "metadata": {},
   "source": [
    "### Document 2: An excerpt from The Gift Of the Magi"
   ]
  },
  {
   "cell_type": "code",
   "execution_count": 29,
   "metadata": {},
   "outputs": [],
   "source": [
    "OHenryText2 = '''ONE DOLLAR AND EIGHTY-SEVEN CENTS. That was all. She had put it aside, one cent and then another \n",
    "and then another, in her careful buying of meat and other food. Della counted it three times. One dollar and \n",
    "eighty-seven cents. And the next day would beChristmas.There was nothing to do but fall on the bed and cry. \n",
    "So Della did it. While the lady of the home is slowly growing quieter, we can look at the home. Furnished rooms \n",
    "at a cost of $8 a week. There is lit-tle more to say about it.In the hall below was a letter-box too small to \n",
    "hold a letter. There was an electric bell, but it could not make a sound. Also there was a name beside the door: \n",
    "“Mr. James Dillingham Young.” When the name was placed there, Mr. James Dillingham Young was being paid $30 a week. \n",
    "Now, when he was being paid only $20 a week, the name seemed too long and important. It should perhaps have been \n",
    "“Mr. James D. Young.” But when Mr. James Dillingham Young entered the furnished rooms, his name became very short \n",
    "indeed. Mrs. James Dillingham Young put her arms warmly about him and called him “Jim.” You have already met her. \n",
    "She is Della.Della finished her crying and cleaned the marks of it from her face. She stood by the window and looked \n",
    "out with no interest. Tomorrow would be Christmas Day, and she had only $1.87 with which to buy Jim a gift. She had \n",
    "put aside as much as she could for months, with this result. Twenty dollars a week is not much. Everything had cost \n",
    "more than she had expected. It always happened like that.Only $ 1.87 to buy a gift for Jim. Her Jim. She had had many \n",
    "happy hours planning something nice for him. Something nearly good enough. Something almost worth the honor of \n",
    "belonging to Jim.There was a looking-glass between the windows of the room. Per-haps you have seen the kind of \n",
    "looking-glass that is placed in $8 fur-nished rooms. It was very narrow. A person could see only a little of himself \n",
    "at a time. However, if he was very thin and moved very quickly, he might be able to get a good view of himself. Della,\n",
    "being quite thin, had mastered this art. Suddenly she turned from the window and stood before the glass. Her \n",
    "eyes were shining brightly, but her face had lost its color. Quickly she pulled down her hair and let it fall to \n",
    "its complete length.The James Dillingham Youngs were very proud of two things which they owned. One thing was Jim’s \n",
    "gold watch. It had once belonged to his father. And, long ago, it had belonged to his father’s father. The other thing \n",
    "was Della’s hair.If a queen had lived in the rooms near theirs, Della would have washed and dried her hair where the \n",
    "queen could see it. Della knew her hair was more beautiful than any queen’s jewels and gifts.'''"
   ]
  },
  {
   "cell_type": "markdown",
   "metadata": {},
   "source": [
    "### Calculating Cosine Similarity Without Stemming"
   ]
  },
  {
   "cell_type": "code",
   "execution_count": 30,
   "metadata": {},
   "outputs": [],
   "source": [
    "import sklearn\n",
    "from sklearn.feature_extraction.text import CountVectorizer\n",
    "vect = CountVectorizer(binary=True)\n",
    "corpus = [OHenryText1, OHenryText2]"
   ]
  },
  {
   "cell_type": "code",
   "execution_count": 31,
   "metadata": {},
   "outputs": [
    {
     "data": {
      "text/plain": [
       "CountVectorizer(analyzer='word', binary=True, decode_error='strict',\n",
       "                dtype=<class 'numpy.int64'>, encoding='utf-8', input='content',\n",
       "                lowercase=True, max_df=1.0, max_features=None, min_df=1,\n",
       "                ngram_range=(1, 1), preprocessor=None, stop_words=None,\n",
       "                strip_accents=None, token_pattern='(?u)\\\\b\\\\w\\\\w+\\\\b',\n",
       "                tokenizer=None, vocabulary=None)"
      ]
     },
     "execution_count": 31,
     "metadata": {},
     "output_type": "execute_result"
    }
   ],
   "source": [
    "vect.fit(corpus)"
   ]
  },
  {
   "cell_type": "code",
   "execution_count": 32,
   "metadata": {},
   "outputs": [],
   "source": [
    "vocab = vect.vocabulary_"
   ]
  },
  {
   "cell_type": "code",
   "execution_count": 33,
   "metadata": {},
   "outputs": [
    {
     "name": "stdout",
     "output_type": "stream",
     "text": [
      "Similarity without Stemming: [[0.2808306]]\n"
     ]
    }
   ],
   "source": [
    "#Finding similarity between documents\n",
    "from sklearn.metrics.pairwise import cosine_similarity\n",
    "similarity = cosine_similarity(vect.transform([OHenryText1]).toarray(), vect.transform([OHenryText2]).toarray())\n",
    "print(\"Similarity without Stemming:\",similarity)"
   ]
  },
  {
   "cell_type": "markdown",
   "metadata": {},
   "source": [
    "### Finding Similarity after Stemming (PorterStemmer)"
   ]
  },
  {
   "cell_type": "code",
   "execution_count": 34,
   "metadata": {},
   "outputs": [
    {
     "name": "stdout",
     "output_type": "stream",
     "text": [
      "At the top of a squatti , three-stori brick sue and johnsi had their studio . `` johnsi '' wa familiar for joanna . one wa from main ; the other from california . they had met at the tabl d'hôte of an eighth street '' delmonico 's , '' and found their tast in art , chicori salad and bishop sleev so congeni that the joint studio resulted.that wa in may . In novemb a cold , unseen stranger , whom the doctor call pneumonia , stalk about the coloni , touch one here and there with hi ici finger . over on the east side thi ravag strode boldli , smite hi victim by score , but hi feet trod slowli through the maze of the narrow and moss-grown `` place . '' Mr . pneumonia wa not what you would call a chivalr old gentleman . A mite of a littl woman with blood thin by california zephyr wa hardli fair game for the red-fist , short-breath old duffer . but johnsi he smote ; and she lay , scarc move , on her paint iron bedstead , look through the small dutch window-pan at the blank side of the next brick hous . one morn the busi doctor invit sue into the hallway with a shaggi , grey eyebrow . `` she ha one chanc in - let us say , ten , '' he said , as he shook down the mercuri in hi clinic thermometer. '' and that chanc is for her to want to live . thi way peopl have of lining-u on the side of the undertak make the entir pharmacopoeia look silli . your littl ladi ha made up her mind that she 's not go to get well . ha she anyth on her mind ? '' `` she - she want to paint the bay of napl some day . '' said sue . `` paint ? - bosh ! ha she anyth on her mind worth think twice - a man for instanc ? '' `` A man ? '' said sue , with a jew's-harp twang in her voic . `` Is a man worth - but , no , doctor ; there is noth of the kind . '' `` well , it is the weak , then , '' said the doctor . `` I will do all that scienc , so far as it may filter through my effort , can accomplish . but whenev my patient begin to count the carriag in her funer process I subtract 50 per cent from the cur power of medicin . If you will get her to ask one question about the new winter style in cloak sleev I will promis you a one-in-f chanc for her , instead of one in ten . '' \n",
      "Length: 2169\n"
     ]
    }
   ],
   "source": [
    "\n",
    "#Stemming OHenryText1\n",
    "\n",
    "from nltk.stem import PorterStemmer \n",
    "from nltk.tokenize import word_tokenize \n",
    "   \n",
    "ps = PorterStemmer() \n",
    "words = word_tokenize(OHenryText1) \n",
    "   \n",
    "porterStemmedText1 = \"\"   \n",
    "for w in words: \n",
    "    porterStemmedText1 = porterStemmedText1 + ps.stem(w) + \" \"\n",
    "print(porterStemmedText1)\n",
    "print(\"Length:\", len(porterStemmedText1))"
   ]
  },
  {
   "cell_type": "code",
   "execution_count": 35,
   "metadata": {},
   "outputs": [
    {
     "name": "stdout",
     "output_type": "stream",
     "text": [
      "one dollar and eighty-seven cent . that wa all . she had put it asid , one cent and then anoth and then anoth , in her care buy of meat and other food . della count it three time . one dollar and eighty-seven cent . and the next day would bechristmas.ther wa noth to do but fall on the bed and cri . So della did it . while the ladi of the home is slowli grow quieter , we can look at the home . furnish room at a cost of $ 8 a week . there is lit-tl more to say about it.in the hall below wa a letter-box too small to hold a letter . there wa an electr bell , but it could not make a sound . also there wa a name besid the door : “ Mr . jame dillingham young. ” when the name wa place there , mr. jame dillingham young wa be paid $ 30 a week . now , when he wa be paid onli $ 20 a week , the name seem too long and import . It should perhap have been “ Mr . jame D. young. ” but when mr. jame dillingham young enter the furnish room , hi name becam veri short inde . mrs. jame dillingham young put her arm warmli about him and call him “ jim. ” you have alreadi met her . she is della.della finish her cri and clean the mark of it from her face . she stood by the window and look out with no interest . tomorrow would be christma day , and she had onli $ 1.87 with which to buy jim a gift . she had put asid as much as she could for month , with thi result . twenti dollar a week is not much . everyth had cost more than she had expect . It alway happen like that.onli $ 1.87 to buy a gift for jim . her jim . she had had mani happi hour plan someth nice for him . someth nearli good enough . someth almost worth the honor of belong to jim.ther wa a looking-glass between the window of the room . per-hap you have seen the kind of looking-glass that is place in $ 8 fur-nish room . It wa veri narrow . A person could see onli a littl of himself at a time . howev , if he wa veri thin and move veri quickli , he might be abl to get a good view of himself . della , be quit thin , had master thi art . suddenli she turn from the window and stood befor the glass . her eye were shine brightli , but her face had lost it color . quickli she pull down her hair and let it fall to it complet length.th jame dillingham young were veri proud of two thing which they own . one thing wa jim ’ s gold watch . It had onc belong to hi father . and , long ago , it had belong to hi father ’ s father . the other thing wa della ’ s hair.if a queen had live in the room near their , della would have wash and dri her hair where the queen could see it . della knew her hair wa more beauti than ani queen ’ s jewel and gift . \n",
      "Length: 2609\n"
     ]
    }
   ],
   "source": [
    "#Stemming OHenryText2\n",
    "\n",
    "from nltk.stem import PorterStemmer \n",
    "from nltk.tokenize import word_tokenize \n",
    "   \n",
    "ps = PorterStemmer() \n",
    "words = word_tokenize(OHenryText2) \n",
    "porterStemmedText2 = \"\"   \n",
    "for w in words: \n",
    "    porterStemmedText2 = porterStemmedText2 + ps.stem(w) + \" \"\n",
    "print(porterStemmedText2)\n",
    "print(\"Length:\", len(porterStemmedText2))"
   ]
  },
  {
   "cell_type": "code",
   "execution_count": 38,
   "metadata": {},
   "outputs": [],
   "source": [
    "vect = CountVectorizer(binary=True)\n",
    "corpus = [porterStemmedText1, porterStemmedText2]"
   ]
  },
  {
   "cell_type": "code",
   "execution_count": 39,
   "metadata": {},
   "outputs": [],
   "source": [
    "vect.fit(corpus)\n",
    "vocab = vect.vocabulary_"
   ]
  },
  {
   "cell_type": "code",
   "execution_count": 40,
   "metadata": {},
   "outputs": [
    {
     "name": "stdout",
     "output_type": "stream",
     "text": [
      "Similarity after Stemming: (Porter Stemmer) [[0.31910838]]\n"
     ]
    }
   ],
   "source": [
    "#Finding similarity between documents\n",
    "from sklearn.metrics.pairwise import cosine_similarity\n",
    "similarity = cosine_similarity(vect.transform([porterStemmedText1]).toarray(), vect.transform([porterStemmedText2]).toarray())\n",
    "print(\"Similarity after Stemming: (Porter Stemmer)\",similarity)"
   ]
  },
  {
   "cell_type": "markdown",
   "metadata": {},
   "source": [
    "### Finding Similarity after Stemming (LancasterStemmer)"
   ]
  },
  {
   "cell_type": "code",
   "execution_count": 42,
   "metadata": {},
   "outputs": [
    {
     "name": "stdout",
     "output_type": "stream",
     "text": [
      "at the top of a squatty , three-story brick sue and johnsy had their studio . `` johnsy '' was famili for joann . on was from main ; the oth from californ . they had met at the tabl d'hôte of an eigh street '' delmonico 's , '' and found their tast in art , chic salad and bishop sleev so cong that the joint studio resulted.that was in may . in novemb a cold , unseen stranger , whom the doct cal pneumon , stalk about the colony , touch on her and ther with his icy fing . ov on the east sid thi rav strode bold , smit his victim by scor , but his feet trod slow through the maz of the narrow and moss-grown `` plac . '' mr . pneumon was not what you would cal a chivalr old gentlem . a mit of a littl wom with blood thin by californ zephyr was hard fair gam for the red-fist , short-breathed old duff . but johnsy he smot ; and she lay , scarc mov , on her paint iron bedstead , look through the smal dutch window-panes at the blank sid of the next brick hous . on morn the busy doct invit sue into the hallway with a shaggy , grey eyebrow . `` she has on chant in - let us say , ten , '' he said , as he shook down the mercury in his clin thermometer. '' and that chant is for her to want to liv . thi way peopl hav of lining-u on the sid of the undertak mak the entir pharmacopoe look sil . yo littl lady has mad up her mind that she 's not going to get wel . has she anyth on her mind ? '' `` she - she want to paint the bay of napl som day . '' said sue . `` paint ? - bosh ! has she anyth on her mind wor think twic - a man for inst ? '' `` a man ? '' said sue , with a jew's-harp twang in her voic . `` is a man wor - but , no , doct ; ther is noth of the kind . '' `` wel , it is the weak , then , '' said the doct . `` i wil do al that sci , so far as it may filt through my effort , can accompl . but whenev my paty begin to count the carry in her fun process i subtract 50 per cent from the cur pow of medicin . if you wil get her to ask on quest about the new wint styl in cloak sleev i wil prom you a one-in-fiv chant for her , instead of on in ten . '' \n",
      "Length: 2069\n"
     ]
    }
   ],
   "source": [
    "\n",
    "#Stemming OHenryText1\n",
    "\n",
    "from nltk.stem import LancasterStemmer \n",
    "   \n",
    "ls = LancasterStemmer() \n",
    "words = word_tokenize(OHenryText1) \n",
    "   \n",
    "lancasterStemmedText1 = \"\"   \n",
    "for w in words: \n",
    "    lancasterStemmedText1 = lancasterStemmedText1 + ls.stem(w) + \" \"\n",
    "print(lancasterStemmedText1)\n",
    "print(\"Length:\", len(lancasterStemmedText1))"
   ]
  },
  {
   "cell_type": "code",
   "execution_count": 43,
   "metadata": {},
   "outputs": [
    {
     "name": "stdout",
     "output_type": "stream",
     "text": [
      "on doll and eighty-seven cent . that was al . she had put it asid , on cent and then anoth and then anoth , in her car buy of meat and oth food . dell count it three tim . on doll and eighty-seven cent . and the next day would bechristmas.there was noth to do but fal on the bed and cry . so dell did it . whil the lady of the hom is slow grow quiet , we can look at the hom . furn room at a cost of $ 8 a week . ther is lit-tle mor to say about it.in the hal below was a letter-box too smal to hold a let . ther was an elect bel , but it could not mak a sound . also ther was a nam besid the door : “ mr . jam dillingham young. ” when the nam was plac ther , mr. jam dillingham young was being paid $ 30 a week . now , when he was being paid on $ 20 a week , the nam seem too long and import . it should perhap hav been “ mr . jam d. young. ” but when mr. jam dillingham young ent the furn room , his nam becam very short indee . mrs. jam dillingham young put her arm warm about him and cal him “ jim. ” you hav already met her . she is della.dell fin her cry and cle the mark of it from her fac . she stood by the window and look out with no interest . tomorrow would be christmas day , and she had on $ 1.87 with which to buy jim a gift . she had put asid as much as she could for month , with thi result . twenty doll a week is not much . everyth had cost mor than she had expect . it alway hap lik that.only $ 1.87 to buy a gift for jim . her jim . she had had many happy hour plan someth nic for him . someth near good enough . someth almost wor the hon of belong to jim.there was a looking-glass between the window of the room . per-haps you hav seen the kind of looking-glass that is plac in $ 8 fur-nished room . it was very narrow . a person could see on a littl of himself at a tim . howev , if he was very thin and mov very quick , he might be abl to get a good view of himself . dell , being quit thin , had mast thi art . sud she turn from the window and stood bef the glass . her ey wer shin bright , but her fac had lost it col . quick she pul down her hair and let it fal to it complet length.the jam dillingham young wer very proud of two thing which they own . on thing was jim ’ s gold watch . it had ont belong to his fath . and , long ago , it had belong to his fath ’ s fath . the oth thing was dell ’ s hair.if a queen had liv in the room near their , dell would hav wash and dri her hair wher the queen could see it . dell knew her hair was mor beauty than any queen ’ s jewel and gift . \n",
      "Length: 2513\n"
     ]
    }
   ],
   "source": [
    "\n",
    "#Stemming OHenryText2\n",
    "\n",
    "from nltk.stem import LancasterStemmer \n",
    "   \n",
    "ls = LancasterStemmer() \n",
    "words = word_tokenize(OHenryText2) \n",
    "   \n",
    "lancasterStemmedText2 = \"\"   \n",
    "for w in words: \n",
    "    lancasterStemmedText2 = lancasterStemmedText2 + ls.stem(w) + \" \"\n",
    "print(lancasterStemmedText2)\n",
    "print(\"Length:\", len(lancasterStemmedText2))"
   ]
  },
  {
   "cell_type": "code",
   "execution_count": 44,
   "metadata": {},
   "outputs": [],
   "source": [
    "vect = CountVectorizer(binary=True)\n",
    "corpus = [lancasterStemmedText1, lancasterStemmedText2]"
   ]
  },
  {
   "cell_type": "code",
   "execution_count": 45,
   "metadata": {},
   "outputs": [],
   "source": [
    "vect.fit(corpus)\n",
    "vocab = vect.vocabulary_"
   ]
  },
  {
   "cell_type": "code",
   "execution_count": 46,
   "metadata": {},
   "outputs": [
    {
     "name": "stdout",
     "output_type": "stream",
     "text": [
      "Similarity after Stemming: (Lancaster Stemmer) [[0.36497772]]\n"
     ]
    }
   ],
   "source": [
    "#Finding similarity between documents\n",
    "similarity = cosine_similarity(vect.transform([lancasterStemmedText1]).toarray(), vect.transform([lancasterStemmedText2]).toarray())\n",
    "print(\"Similarity after Stemming: (Lancaster Stemmer)\",similarity)"
   ]
  },
  {
   "cell_type": "code",
   "execution_count": null,
   "metadata": {},
   "outputs": [],
   "source": []
  }
 ],
 "metadata": {
  "kernelspec": {
   "display_name": "Python 3",
   "language": "python",
   "name": "python3"
  },
  "language_info": {
   "codemirror_mode": {
    "name": "ipython",
    "version": 3
   },
   "file_extension": ".py",
   "mimetype": "text/x-python",
   "name": "python",
   "nbconvert_exporter": "python",
   "pygments_lexer": "ipython3",
   "version": "3.7.6"
  }
 },
 "nbformat": 4,
 "nbformat_minor": 4
}
